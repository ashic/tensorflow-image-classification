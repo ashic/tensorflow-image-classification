{
 "cells": [
  {
   "cell_type": "markdown",
   "metadata": {
    "collapsed": true
   },
   "source": [
    "# Image Classification\n",
    "In this project, you'll classify images from the [CIFAR-10 dataset](https://www.cs.toronto.edu/~kriz/cifar.html).  The dataset consists of airplanes, dogs, cats, and other objects. You'll preprocess the images, then train a convolutional neural network on all the samples. The images need to be normalized and the labels need to be one-hot encoded.  You'll get to apply what you learned and build a convolutional, max pooling, dropout, and fully connected layers.  At the end, you'll get to see your neural network's predictions on the sample images.\n",
    "## Get the Data\n",
    "Run the following cell to download the [CIFAR-10 dataset for python](https://www.cs.toronto.edu/~kriz/cifar-10-python.tar.gz)."
   ]
  },
  {
   "cell_type": "code",
   "execution_count": 1,
   "metadata": {
    "collapsed": false
   },
   "outputs": [
    {
     "name": "stdout",
     "output_type": "stream",
     "text": [
      "All files found!\n"
     ]
    }
   ],
   "source": [
    "\"\"\"\n",
    "DON'T MODIFY ANYTHING IN THIS CELL THAT IS BELOW THIS LINE\n",
    "\"\"\"\n",
    "from urllib.request import urlretrieve\n",
    "from os.path import isfile, isdir\n",
    "from tqdm import tqdm\n",
    "import problem_unittests as tests\n",
    "import tarfile\n",
    "\n",
    "cifar10_dataset_folder_path = 'cifar-10-batches-py'\n",
    "\n",
    "class DLProgress(tqdm):\n",
    "    last_block = 0\n",
    "\n",
    "    def hook(self, block_num=1, block_size=1, total_size=None):\n",
    "        self.total = total_size\n",
    "        self.update((block_num - self.last_block) * block_size)\n",
    "        self.last_block = block_num\n",
    "\n",
    "if not isfile('cifar-10-python.tar.gz'):\n",
    "    with DLProgress(unit='B', unit_scale=True, miniters=1, desc='CIFAR-10 Dataset') as pbar:\n",
    "        urlretrieve(\n",
    "            'https://www.cs.toronto.edu/~kriz/cifar-10-python.tar.gz',\n",
    "            'cifar-10-python.tar.gz',\n",
    "            pbar.hook)\n",
    "\n",
    "if not isdir(cifar10_dataset_folder_path):\n",
    "    with tarfile.open('cifar-10-python.tar.gz') as tar:\n",
    "        tar.extractall()\n",
    "        tar.close()\n",
    "\n",
    "\n",
    "tests.test_folder_path(cifar10_dataset_folder_path)"
   ]
  },
  {
   "cell_type": "markdown",
   "metadata": {},
   "source": [
    "## Explore the Data\n",
    "The dataset is broken into batches to prevent your machine from running out of memory.  The CIFAR-10 dataset consists of 5 batches, named `data_batch_1`, `data_batch_2`, etc.. Each batch contains the labels and images that are one of the following:\n",
    "* airplane\n",
    "* automobile\n",
    "* bird\n",
    "* cat\n",
    "* deer\n",
    "* dog\n",
    "* frog\n",
    "* horse\n",
    "* ship\n",
    "* truck\n",
    "\n",
    "Understanding a dataset is part of making predictions on the data.  Play around with the code cell below by changing the `batch_id` and `sample_id`. The `batch_id` is the id for a batch (1-5). The `sample_id` is the id for a image and label pair in the batch.\n",
    "\n",
    "Ask yourself \"What are all possible labels?\", \"What is the range of values for the image data?\", \"Are the labels in order or random?\".  Answers to questions like these will help you preprocess the data and end up with better predictions."
   ]
  },
  {
   "cell_type": "code",
   "execution_count": 2,
   "metadata": {
    "collapsed": false
   },
   "outputs": [
    {
     "name": "stdout",
     "output_type": "stream",
     "text": [
      "\n",
      "Stats of batch 1:\n",
      "Samples: 10000\n",
      "Label Counts: {0: 1005, 1: 974, 2: 1032, 3: 1016, 4: 999, 5: 937, 6: 1030, 7: 1001, 8: 1025, 9: 981}\n",
      "First 20 Labels: [6, 9, 9, 4, 1, 1, 2, 7, 8, 3, 4, 7, 7, 2, 9, 9, 9, 3, 2, 6]\n",
      "\n",
      "Example of Image 6:\n",
      "Image - Min Value: 7 Max Value: 249\n",
      "Image - Shape: (32, 32, 3)\n",
      "Label - Label Id: 2 Name: bird\n"
     ]
    },
    {
     "data": {
      "image/png": "[encoded data removed]",
      "text/plain": [
       "<matplotlib.figure.Figure at 0x7f2449b59400>"
      ]
     },
     "metadata": {
      "image/png": {
       "height": 250,
       "width": 253
      }
     },
     "output_type": "display_data"
    }
   ],
   "source": [
    "%matplotlib inline\n",
    "%config InlineBackend.figure_format = 'retina'\n",
    "\n",
    "import helper\n",
    "import numpy as np\n",
    "\n",
    "# Explore the dataset\n",
    "batch_id = 1\n",
    "sample_id = 6\n",
    "helper.display_stats(cifar10_dataset_folder_path, batch_id, sample_id)"
   ]
  },
  {
   "cell_type": "markdown",
   "metadata": {},
   "source": [
    "## Implement Preprocess Functions\n",
    "### Normalize\n",
    "In the cell below, implement the `normalize` function to take in image data, `x`, and return it as a normalized Numpy array. The values should be in the range of 0 to 1, inclusive.  The return object should be the same shape as `x`."
   ]
  },
  {
   "cell_type": "code",
   "execution_count": 3,
   "metadata": {
    "collapsed": false
   },
   "outputs": [
    {
     "name": "stdout",
     "output_type": "stream",
     "text": [
      "Tests Passed\n"
     ]
    }
   ],
   "source": [
    "def normalize(x):\n",
    "    \"\"\"\n",
    "    Normalize a list of sample image data in the range of 0 to 1\n",
    "    : x: List of image data.  The image shape is (32, 32, 3)\n",
    "    : return: Numpy array of normalize data\n",
    "    \"\"\"\n",
    "    \n",
    "    # TODO: Implement Function\n",
    "    return x / 256.0\n",
    "\n",
    "\n",
    "\"\"\"\n",
    "DON'T MODIFY ANYTHING IN THIS CELL THAT IS BELOW THIS LINE\n",
    "\"\"\"\n",
    "tests.test_normalize(normalize)"
   ]
  },
  {
   "cell_type": "markdown",
   "metadata": {},
   "source": [
    "### One-hot encode\n",
    "Just like the previous code cell, you'll be implementing a function for preprocessing.  This time, you'll implement the `one_hot_encode` function. The input, `x`, are a list of labels.  Implement the function to return the list of labels as One-Hot encoded Numpy array.  The possible values for labels are 0 to 9. The one-hot encoding function should return the same encoding for each value between each call to `one_hot_encode`.  Make sure to save the map of encodings outside the function.\n",
    "\n",
    "Hint: Don't reinvent the wheel."
   ]
  },
  {
   "cell_type": "code",
   "execution_count": 4,
   "metadata": {
    "collapsed": false
   },
   "outputs": [
    {
     "name": "stdout",
     "output_type": "stream",
     "text": [
      "Tests Passed\n"
     ]
    }
   ],
   "source": [
    "encodings = {}\n",
    "\n",
    "def one_hot_encode(x):\n",
    "    \"\"\"\n",
    "    One hot encode a list of sample labels. Return a one-hot encoded vector for each label.\n",
    "    : x: List of sample Labels\n",
    "    : return: Numpy array of one-hot encoded labels\n",
    "    \"\"\"\n",
    "    # TODO: Implement Function\n",
    "    global encodings\n",
    "    if len(encodings) == 0:\n",
    "        values = np.max(x) + 1\n",
    "        encodings = np.eye(values)\n",
    "    return encodings[x]\n",
    "\n",
    "\n",
    "\"\"\"\n",
    "DON'T MODIFY ANYTHING IN THIS CELL THAT IS BELOW THIS LINE\n",
    "\"\"\"\n",
    "tests.test_one_hot_encode(one_hot_encode)"
   ]
  },
  {
   "cell_type": "markdown",
   "metadata": {},
   "source": [
    "### Randomize Data\n",
    "As you saw from exploring the data above, the order of the samples are randomized.  It doesn't hurt to randomize it again, but you don't need to for this dataset."
   ]
  },
  {
   "cell_type": "markdown",
   "metadata": {},
   "source": [
    "## Preprocess all the data and save it\n",
    "Running the code cell below will preprocess all the CIFAR-10 data and save it to file. The code below also uses 10% of the training data for validation."
   ]
  },
  {
   "cell_type": "code",
   "execution_count": 5,
   "metadata": {
    "collapsed": false
   },
   "outputs": [],
   "source": [
    "\"\"\"\n",
    "DON'T MODIFY ANYTHING IN THIS CELL\n",
    "\"\"\"\n",
    "# Preprocess Training, Validation, and Testing Data\n",
    "helper.preprocess_and_save_data(cifar10_dataset_folder_path, normalize, one_hot_encode)"
   ]
  },
  {
   "cell_type": "markdown",
   "metadata": {},
   "source": [
    "# Check Point\n",
    "This is your first checkpoint.  If you ever decide to come back to this notebook or have to restart the notebook, you can start from here.  The preprocessed data has been saved to disk."
   ]
  },
  {
   "cell_type": "code",
   "execution_count": 6,
   "metadata": {
    "collapsed": true
   },
   "outputs": [],
   "source": [
    "\"\"\"\n",
    "DON'T MODIFY ANYTHING IN THIS CELL\n",
    "\"\"\"\n",
    "import pickle\n",
    "import problem_unittests as tests\n",
    "import helper\n",
    "\n",
    "# Load the Preprocessed Validation data\n",
    "valid_features, valid_labels = pickle.load(open('preprocess_validation.p', mode='rb'))"
   ]
  },
  {
   "cell_type": "markdown",
   "metadata": {},
   "source": [
    "## Build the network\n",
    "For the neural network, you'll build each layer into a function.  Most of the code you've seen has been outside of functions. To test your code more thoroughly, we require that you put each layer in a function.  This allows us to give you better feedback and test for simple mistakes using our unittests before you submit your project.\n",
    "\n",
    "If you're finding it hard to dedicate enough time for this course a week, we've provided a small shortcut to this part of the project. In the next couple of problems, you'll have the option to use [TensorFlow Layers](https://www.tensorflow.org/api_docs/python/tf/layers) or [TensorFlow Layers (contrib)](https://www.tensorflow.org/api_guides/python/contrib.layers) to build each layer, except \"Convolutional & Max Pooling\" layer.  TF Layers is similar to Keras's and TFLearn's abstraction to layers, so it's easy to pickup.\n",
    "\n",
    "If you would like to get the most of this course, try to solve all the problems without TF Layers.  Let's begin!\n",
    "### Input\n",
    "The neural network needs to read the image data, one-hot encoded labels, and dropout keep probability. Implement the following functions\n",
    "* Implement `neural_net_image_input`\n",
    " * Return a [TF Placeholder](https://www.tensorflow.org/api_docs/python/tf/placeholder)\n",
    " * Set the shape using `image_shape` with batch size set to `None`.\n",
    " * Name the TensorFlow placeholder \"x\" using the TensorFlow `name` parameter in the [TF Placeholder](https://www.tensorflow.org/api_docs/python/tf/placeholder).\n",
    "* Implement `neural_net_label_input`\n",
    " * Return a [TF Placeholder](https://www.tensorflow.org/api_docs/python/tf/placeholder)\n",
    " * Set the shape using `n_classes` with batch size set to `None`.\n",
    " * Name the TensorFlow placeholder \"y\" using the TensorFlow `name` parameter in the [TF Placeholder](https://www.tensorflow.org/api_docs/python/tf/placeholder).\n",
    "* Implement `neural_net_keep_prob_input`\n",
    " * Return a [TF Placeholder](https://www.tensorflow.org/api_docs/python/tf/placeholder) for dropout keep probability.\n",
    " * Name the TensorFlow placeholder \"keep_prob\" using the TensorFlow `name` parameter in the [TF Placeholder](https://www.tensorflow.org/api_docs/python/tf/placeholder).\n",
    "\n",
    "These names will be used at the end of the project to load your saved model.\n",
    "\n",
    "Note: `None` for shapes in TensorFlow allow for a dynamic size."
   ]
  },
  {
   "cell_type": "code",
   "execution_count": 7,
   "metadata": {
    "collapsed": false
   },
   "outputs": [
    {
     "name": "stdout",
     "output_type": "stream",
     "text": [
      "Image Input Tests Passed.\n",
      "Label Input Tests Passed.\n",
      "Keep Prob Tests Passed.\n"
     ]
    }
   ],
   "source": [
    "import tensorflow as tf\n",
    "\n",
    "def neural_net_image_input(image_shape):\n",
    "    \"\"\"\n",
    "    Return a Tensor for a bach of image input\n",
    "    : image_shape: Shape of the images\n",
    "    : return: Tensor for image input.\n",
    "    \"\"\"\n",
    "    # TODO: Implement Function\n",
    "    return tf.placeholder(tf.float32, \n",
    "                          [None, image_shape[0], image_shape[1], image_shape[2]],\n",
    "                          name='x')\n",
    "\n",
    "\n",
    "def neural_net_label_input(n_classes):\n",
    "    \"\"\"\n",
    "    Return a Tensor for a batch of label input\n",
    "    : n_classes: Number of classes\n",
    "    : return: Tensor for label input.\n",
    "    \"\"\"\n",
    "    # TODO: Implement Function\n",
    "    return tf.placeholder(tf.float32,\n",
    "                         [None, n_classes],\n",
    "                         name='y')\n",
    "\n",
    "\n",
    "def neural_net_keep_prob_input():\n",
    "    \"\"\"\n",
    "    Return a Tensor for keep probability\n",
    "    : return: Tensor for keep probability.\n",
    "    \"\"\"\n",
    "    # TODO: Implement Function\n",
    "    return tf.placeholder(tf.float32, \n",
    "                         name='keep_prob')\n",
    "\n",
    "\n",
    "\"\"\"\n",
    "DON'T MODIFY ANYTHING IN THIS CELL THAT IS BELOW THIS LINE\n",
    "\"\"\"\n",
    "tf.reset_default_graph()\n",
    "tests.test_nn_image_inputs(neural_net_image_input)\n",
    "tests.test_nn_label_inputs(neural_net_label_input)\n",
    "tests.test_nn_keep_prob_inputs(neural_net_keep_prob_input)"
   ]
  },
  {
   "cell_type": "markdown",
   "metadata": {},
   "source": [
    "### Convolution and Max Pooling Layer\n",
    "Convolution layers have a lot of success with images. For this code cell, you should implement the function `conv2d_maxpool` to apply convolution then max pooling:\n",
    "* Create the weight and bias using `conv_ksize`, `conv_num_outputs` and the shape of `x_tensor`.\n",
    "* Apply a convolution to `x_tensor` using weight and `conv_strides`.\n",
    " * We recommend you use same padding, but you're welcome to use any padding.\n",
    "* Add bias\n",
    "* Add a nonlinear activation to the convolution.\n",
    "* Apply Max Pooling using `pool_ksize` and `pool_strides`.\n",
    " * We recommend you use same padding, but you're welcome to use any padding.\n",
    "\n",
    "Note: You **can't** use [TensorFlow Layers](https://www.tensorflow.org/api_docs/python/tf/layers) or [TensorFlow Layers (contrib)](https://www.tensorflow.org/api_guides/python/contrib.layers) for this layer.  You're free to use any TensorFlow package for all the other layers."
   ]
  },
  {
   "cell_type": "code",
   "execution_count": 8,
   "metadata": {
    "collapsed": false
   },
   "outputs": [
    {
     "name": "stdout",
     "output_type": "stream",
     "text": [
      "Tests Passed\n"
     ]
    }
   ],
   "source": [
    "def conv2d_maxpool(x_tensor, conv_num_outputs, conv_ksize, conv_strides, pool_ksize, pool_strides):\n",
    "    \"\"\"\n",
    "    Apply convolution then max pooling to x_tensor\n",
    "    :param x_tensor: TensorFlow Tensor\n",
    "    :param conv_num_outputs: Number of outputs for the convolutional layer\n",
    "    :param conv_strides: Stride 2-D Tuple for convolution\n",
    "    :param pool_ksize: kernal size 2-D Tuple for pool\n",
    "    :param pool_strides: Stride 2-D Tuple for pool\n",
    "    : return: A tensor that represents convolution and max pooling of x_tensor\n",
    "    \"\"\"\n",
    "    # TODO: Implement Function\n",
    "    input_depth = int(x_tensor.get_shape()[3])\n",
    "    weights = tf.Variable(tf.truncated_normal([*conv_ksize, input_depth, conv_num_outputs], 0, 0.01))\n",
    "    bias = tf.Variable(tf.zeros(conv_num_outputs))\n",
    "    \n",
    "    strides = [1, *conv_strides, 1]\n",
    "    x_tensor = tf.nn.conv2d(x_tensor, weights, strides=strides, padding='SAME')\n",
    "    x_tensor = tf.nn.bias_add(x_tensor, bias)\n",
    "    x_tensor = tf.nn.relu(x_tensor)\n",
    "    x_tensor = tf.nn.max_pool(x_tensor, [1, *pool_ksize, 1], [1, *pool_strides, 1], 'SAME')\n",
    "\n",
    "    return x_tensor\n",
    "\n",
    "\n",
    "\"\"\"\n",
    "DON'T MODIFY ANYTHING IN THIS CELL THAT IS BELOW THIS LINE\n",
    "\"\"\"\n",
    "tests.test_con_pool(conv2d_maxpool)"
   ]
  },
  {
   "cell_type": "markdown",
   "metadata": {},
   "source": [
    "### Flatten Layer\n",
    "Implement the `flatten` function to change the dimension of `x_tensor` from a 4-D tensor to a 2-D tensor.  The output should be the shape (*Batch Size*, *Flattened Image Size*). You can use [TensorFlow Layers](https://www.tensorflow.org/api_docs/python/tf/layers) or [TensorFlow Layers (contrib)](https://www.tensorflow.org/api_guides/python/contrib.layers) for this layer."
   ]
  },
  {
   "cell_type": "code",
   "execution_count": 9,
   "metadata": {
    "collapsed": false
   },
   "outputs": [
    {
     "name": "stdout",
     "output_type": "stream",
     "text": [
      "Tests Passed\n"
     ]
    }
   ],
   "source": [
    "def flatten(x_tensor):\n",
    "    \"\"\"\n",
    "    Flatten x_tensor to (Batch Size, Flattened Image Size)\n",
    "    : x_tensor: A tensor of size (Batch Size, ...), where ... are the image dimensions.\n",
    "    : return: A tensor of size (Batch Size, Flattened Image Size).\n",
    "    \"\"\"\n",
    "    # TODO: Implement Function\n",
    "    orig_size = x_tensor.get_shape().as_list()\n",
    "    batch_size = orig_size[0]\n",
    "    new_size = orig_size[1] * orig_size[2] * orig_size[3]\n",
    "    \n",
    "    return tf.contrib.layers.flatten(x_tensor, [batch_size, new_size])\n",
    "\n",
    "\"\"\"\n",
    "DON'T MODIFY ANYTHING IN THIS CELL THAT IS BELOW THIS LINE\n",
    "\"\"\"\n",
    "tests.test_flatten(flatten)"
   ]
  },
  {
   "cell_type": "markdown",
   "metadata": {},
   "source": [
    "### Fully-Connected Layer\n",
    "Implement the `fully_conn` function to apply a fully connected layer to `x_tensor` with the shape (*Batch Size*, *num_outputs*). You can use [TensorFlow Layers](https://www.tensorflow.org/api_docs/python/tf/layers) or [TensorFlow Layers (contrib)](https://www.tensorflow.org/api_guides/python/contrib.layers) for this layer."
   ]
  },
  {
   "cell_type": "code",
   "execution_count": 10,
   "metadata": {
    "collapsed": false
   },
   "outputs": [
    {
     "name": "stdout",
     "output_type": "stream",
     "text": [
      "Tests Passed\n"
     ]
    }
   ],
   "source": [
    "def fully_conn(x_tensor, num_outputs):\n",
    "    \"\"\"\n",
    "    Apply a fully connected layer to x_tensor using weight and bias\n",
    "    : x_tensor: A 2-D tensor where the first dimension is batch size.\n",
    "    : num_outputs: The number of output that the new tensor should be.\n",
    "    : return: A 2-D tensor where the second dimension is num_outputs.\n",
    "    \"\"\"\n",
    "    # TODO: Implement Function\n",
    "    num_inputs = int(x_tensor.get_shape()[1])\n",
    "    \n",
    "    weight = tf.Variable(tf.truncated_normal([num_inputs, num_outputs], 0, 0.01))\n",
    "    bias = tf.Variable(tf.zeros(num_outputs))\n",
    "     \n",
    "    return tf.add(tf.matmul(x_tensor, weight), bias)\n",
    "\n",
    "\n",
    "\"\"\"\n",
    "DON'T MODIFY ANYTHING IN THIS CELL THAT IS BELOW THIS LINE\n",
    "\"\"\"\n",
    "tests.test_fully_conn(fully_conn)"
   ]
  },
  {
   "cell_type": "markdown",
   "metadata": {},
   "source": [
    "### Output Layer\n",
    "Implement the `output` function to apply a fully connected layer to `x_tensor` with the shape (*Batch Size*, *num_outputs*). You can use [TensorFlow Layers](https://www.tensorflow.org/api_docs/python/tf/layers) or [TensorFlow Layers (contrib)](https://www.tensorflow.org/api_guides/python/contrib.layers) for this layer.\n",
    "\n",
    "Note: Activation, softmax, or cross entropy shouldn't be applied to this."
   ]
  },
  {
   "cell_type": "code",
   "execution_count": 11,
   "metadata": {
    "collapsed": false
   },
   "outputs": [
    {
     "name": "stdout",
     "output_type": "stream",
     "text": [
      "Tests Passed\n"
     ]
    }
   ],
   "source": [
    "def output(x_tensor, num_outputs):\n",
    "    \"\"\"\n",
    "    Apply a output layer to x_tensor using weight and bias\n",
    "    : x_tensor: A 2-D tensor where the first dimension is batch size.\n",
    "    : num_outputs: The number of output that the new tensor should be.\n",
    "    : return: A 2-D tensor where the second dimension is num_outputs.\n",
    "    \"\"\"\n",
    "    # TODO: Implement Function\n",
    "    num_inputs = int(x_tensor.get_shape()[1])\n",
    "    \n",
    "    weight = tf.Variable(tf.truncated_normal([num_inputs, num_outputs], 0, 0.01))\n",
    "    bias = tf.Variable(tf.zeros(num_outputs))\n",
    "     \n",
    "    return tf.add(tf.matmul(x_tensor, weight), bias)\n",
    "\n",
    "\n",
    "\"\"\"\n",
    "DON'T MODIFY ANYTHING IN THIS CELL THAT IS BELOW THIS LINE\n",
    "\"\"\"\n",
    "tests.test_output(output)"
   ]
  },
  {
   "cell_type": "markdown",
   "metadata": {},
   "source": [
    "### Create Convolutional Model\n",
    "Implement the function `conv_net` to create a convolutional neural network model. The function takes in a batch of images, `x`, and outputs logits.  Use the layers you created above to create this model:\n",
    "\n",
    "* Apply 1, 2, or 3 Convolution and Max Pool layers\n",
    "* Apply a Flatten Layer\n",
    "* Apply 1, 2, or 3 Fully Connected Layers\n",
    "* Apply an Output Layer\n",
    "* Return the output\n",
    "* Apply [TensorFlow's Dropout](https://www.tensorflow.org/api_docs/python/tf/nn/dropout) to one or more layers in the model using `keep_prob`. "
   ]
  },
  {
   "cell_type": "code",
   "execution_count": 47,
   "metadata": {
    "collapsed": false
   },
   "outputs": [
    {
     "name": "stdout",
     "output_type": "stream",
     "text": [
      "Neural Network Built!\n"
     ]
    }
   ],
   "source": [
    "def conv_net(x, keep_prob):\n",
    "    \"\"\"\n",
    "    Create a convolutional neural network model\n",
    "    : x: Placeholder tensor that holds image data.\n",
    "    : keep_prob: Placeholder tensor that hold dropout keep probability.\n",
    "    : return: Tensor that represents logits\n",
    "    \"\"\"\n",
    "    # TODO: Apply 1, 2, or 3 Convolution and Max Pool layers\n",
    "    #    Play around with different number of outputs, kernel size and stride\n",
    "    # Function Definition from Above:\n",
    "    #    conv2d_maxpool(x_tensor, conv_num_outputs, conv_ksize, conv_strides, pool_ksize, pool_strides)\n",
    "    x = conv2d_maxpool(x, 400, (4, 4), (2,2), (4,4), (2,2))\n",
    "    x = conv2d_maxpool(x, 200, (4, 4), (2,2), (4,4), (2,2))\n",
    "    x = conv2d_maxpool(x, 200, (4, 4), (2,2), (2,2), (2,2))\n",
    "\n",
    "    # TODO: Apply a Flatten Layer\n",
    "    # Function Definition from Above:\n",
    "    #   flatten(x_tensor)\n",
    "    x = flatten(x)\n",
    "    \n",
    "\n",
    "    # TODO: Apply 1, 2, or 3 Fully Connected Layers\n",
    "    #    Play around with different number of outputs\n",
    "    # Function Definition from Above:\n",
    "    #   fully_conn(x_tensor, num_outputs)\n",
    "    x = fully_conn(x, 500)\n",
    "    x = fully_conn(x, 500)\n",
    "    x = fully_conn(x, 500)\n",
    "    \n",
    "    \n",
    "    x = tf.nn.dropout(x, keep_prob)\n",
    "    # TODO: Apply an Output Layer\n",
    "    #    Set this to the number of classes\n",
    "    # Function Definition from Above:\n",
    "    #   output(x_tensor, num_outputs)\n",
    "    x = output(x, 10)\n",
    "    \n",
    "    # TODO: return output\n",
    "    return x\n",
    "\n",
    "\n",
    "\"\"\"\n",
    "DON'T MODIFY ANYTHING IN THIS CELL THAT IS BELOW THIS LINE\n",
    "\"\"\"\n",
    "\n",
    "##############################\n",
    "## Build the Neural Network ##\n",
    "##############################\n",
    "\n",
    "# Remove previous weights, bias, inputs, etc..\n",
    "tf.reset_default_graph()\n",
    "\n",
    "# Inputs\n",
    "x = neural_net_image_input((32, 32, 3))\n",
    "y = neural_net_label_input(10)\n",
    "keep_prob = neural_net_keep_prob_input()\n",
    "\n",
    "# Model\n",
    "logits = conv_net(x, keep_prob)\n",
    "\n",
    "# Name logits Tensor, so that is can be loaded from disk after training\n",
    "logits = tf.identity(logits, name='logits')\n",
    "\n",
    "# Loss and Optimizer\n",
    "cost = tf.reduce_mean(tf.nn.softmax_cross_entropy_with_logits(logits=logits, labels=y))\n",
    "optimizer = tf.train.AdamOptimizer().minimize(cost)\n",
    "\n",
    "# Accuracy\n",
    "correct_pred = tf.equal(tf.argmax(logits, 1), tf.argmax(y, 1))\n",
    "accuracy = tf.reduce_mean(tf.cast(correct_pred, tf.float32), name='accuracy')\n",
    "\n",
    "tests.test_conv_net(conv_net)"
   ]
  },
  {
   "cell_type": "markdown",
   "metadata": {},
   "source": [
    "## Train the Neural Network\n",
    "### Single Optimization\n",
    "Implement the function `train_neural_network` to do a single optimization.  The optimization should use `optimizer` to optimize in `session` with a `feed_dict` of the following:\n",
    "* `x` for image input\n",
    "* `y` for labels\n",
    "* `keep_prob` for keep probability for dropout\n",
    "\n",
    "This function will be called for each batch, so `tf.global_variables_initializer()` has already been called.\n",
    "\n",
    "Note: Nothing needs to be returned. This function is only optimizing the neural network."
   ]
  },
  {
   "cell_type": "code",
   "execution_count": 48,
   "metadata": {
    "collapsed": false
   },
   "outputs": [
    {
     "name": "stdout",
     "output_type": "stream",
     "text": [
      "Tests Passed\n"
     ]
    }
   ],
   "source": [
    "def train_neural_network(session, optimizer, keep_probability, feature_batch, label_batch):\n",
    "    \"\"\"\n",
    "    Optimize the session on a batch of images and labels\n",
    "    : session: Current TensorFlow session\n",
    "    : optimizer: TensorFlow optimizer function\n",
    "    : keep_probability: keep probability\n",
    "    : feature_batch: Batch of Numpy image data\n",
    "    : label_batch: Batch of Numpy label data\n",
    "    \"\"\"\n",
    "    # TODO: Implement Function\n",
    "    session.run(optimizer, feed_dict = {x:feature_batch, y:label_batch, keep_prob:keep_probability})\n",
    "\n",
    "\n",
    "\"\"\"\n",
    "DON'T MODIFY ANYTHING IN THIS CELL THAT IS BELOW THIS LINE\n",
    "\"\"\"\n",
    "tests.test_train_nn(train_neural_network)"
   ]
  },
  {
   "cell_type": "markdown",
   "metadata": {},
   "source": [
    "### Show Stats\n",
    "Implement the function `print_stats` to print loss and validation accuracy.  Use the global variables `valid_features` and `valid_labels` to calculate validation accuracy.  Use a keep probability of `1.0` to calculate the loss and validation accuracy."
   ]
  },
  {
   "cell_type": "code",
   "execution_count": 49,
   "metadata": {
    "collapsed": false
   },
   "outputs": [],
   "source": [
    "def print_stats(session, feature_batch, label_batch, cost, accuracy):\n",
    "    \"\"\"\n",
    "    Print information about loss and validation accuracy\n",
    "    : session: Current TensorFlow session\n",
    "    : feature_batch: Batch of Numpy image data\n",
    "    : label_batch: Batch of Numpy label data\n",
    "    : cost: TensorFlow cost function\n",
    "    : accuracy: TensorFlow accuracy function\n",
    "    \"\"\"\n",
    "    # TODO: Implement Function\n",
    "    validation_size = 512\n",
    "    loss = session.run(cost, feed_dict={x: feature_batch, y: label_batch, keep_prob: 1.0})\n",
    "    valid_acc = session.run(accuracy, \n",
    "                feed_dict={\n",
    "                    x: valid_features[:validation_size],\n",
    "                    y: valid_labels[:validation_size],\n",
    "                    keep_prob: 1.0})\n",
    "    \n",
    "    print('Loss: {:>10.4f}. Validation Accuracy: {:.6f}'.format(loss, valid_acc))"
   ]
  },
  {
   "cell_type": "markdown",
   "metadata": {},
   "source": [
    "### Hyperparameters\n",
    "Tune the following parameters:\n",
    "* Set `epochs` to the number of iterations until the network stops learning or start overfitting\n",
    "* Set `batch_size` to the highest number that your machine has memory for.  Most people set them to common sizes of memory:\n",
    " * 64\n",
    " * 128\n",
    " * 256\n",
    " * ...\n",
    "* Set `keep_probability` to the probability of keeping a node using dropout"
   ]
  },
  {
   "cell_type": "code",
   "execution_count": 50,
   "metadata": {
    "collapsed": true
   },
   "outputs": [],
   "source": [
    "# TODO: Tune Parameters\n",
    "epochs = 36\n",
    "batch_size = 64\n",
    "keep_probability = 0.5"
   ]
  },
  {
   "cell_type": "markdown",
   "metadata": {},
   "source": [
    "### Train on a Single CIFAR-10 Batch\n",
    "Instead of training the neural network on all the CIFAR-10 batches of data, let's use a single batch. This should save time while you iterate on the model to get a better accuracy.  Once the final validation accuracy is 50% or greater, run the model on all the data in the next section."
   ]
  },
  {
   "cell_type": "code",
   "execution_count": 51,
   "metadata": {
    "collapsed": false
   },
   "outputs": [
    {
     "name": "stdout",
     "output_type": "stream",
     "text": [
      "Checking the Training on a Single Batch...\n",
      "Epoch  1, CIFAR-10 Batch 1:  Loss:     2.0743. Validation Accuracy: 0.183594\n",
      "Epoch  2, CIFAR-10 Batch 1:  Loss:     2.0382. Validation Accuracy: 0.208984\n",
      "Epoch  3, CIFAR-10 Batch 1:  Loss:     1.9784. Validation Accuracy: 0.271484\n",
      "Epoch  4, CIFAR-10 Batch 1:  Loss:     1.8237. Validation Accuracy: 0.318359\n",
      "Epoch  5, CIFAR-10 Batch 1:  Loss:     1.6691. Validation Accuracy: 0.343750\n",
      "Epoch  6, CIFAR-10 Batch 1:  Loss:     1.5532. Validation Accuracy: 0.388672\n",
      "Epoch  7, CIFAR-10 Batch 1:  Loss:     1.4122. Validation Accuracy: 0.427734\n",
      "Epoch  8, CIFAR-10 Batch 1:  Loss:     1.2485. Validation Accuracy: 0.451172\n",
      "Epoch  9, CIFAR-10 Batch 1:  Loss:     1.1716. Validation Accuracy: 0.425781\n",
      "Epoch 10, CIFAR-10 Batch 1:  Loss:     1.1264. Validation Accuracy: 0.457031\n",
      "Epoch 11, CIFAR-10 Batch 1:  Loss:     0.9868. Validation Accuracy: 0.449219\n",
      "Epoch 12, CIFAR-10 Batch 1:  Loss:     1.1111. Validation Accuracy: 0.480469\n",
      "Epoch 13, CIFAR-10 Batch 1:  Loss:     0.9991. Validation Accuracy: 0.488281\n",
      "Epoch 14, CIFAR-10 Batch 1:  Loss:     0.9145. Validation Accuracy: 0.505859\n",
      "Epoch 15, CIFAR-10 Batch 1:  Loss:     0.7844. Validation Accuracy: 0.509766\n",
      "Epoch 16, CIFAR-10 Batch 1:  Loss:     0.7732. Validation Accuracy: 0.501953\n",
      "Epoch 17, CIFAR-10 Batch 1:  Loss:     0.6636. Validation Accuracy: 0.468750\n",
      "Epoch 18, CIFAR-10 Batch 1:  Loss:     0.6567. Validation Accuracy: 0.480469\n",
      "Epoch 19, CIFAR-10 Batch 1:  Loss:     0.6545. Validation Accuracy: 0.486328\n",
      "Epoch 20, CIFAR-10 Batch 1:  Loss:     0.6536. Validation Accuracy: 0.466797\n",
      "Epoch 21, CIFAR-10 Batch 1:  Loss:     0.6262. Validation Accuracy: 0.480469\n",
      "Epoch 22, CIFAR-10 Batch 1:  Loss:     0.6782. Validation Accuracy: 0.466797\n",
      "Epoch 23, CIFAR-10 Batch 1:  Loss:     0.5769. Validation Accuracy: 0.445312\n",
      "Epoch 24, CIFAR-10 Batch 1:  Loss:     0.6561. Validation Accuracy: 0.480469\n",
      "Epoch 25, CIFAR-10 Batch 1:  Loss:     0.4957. Validation Accuracy: 0.478516\n",
      "Epoch 26, CIFAR-10 Batch 1:  Loss:     0.4751. Validation Accuracy: 0.455078\n",
      "Epoch 27, CIFAR-10 Batch 1:  Loss:     0.4945. Validation Accuracy: 0.472656\n",
      "Epoch 28, CIFAR-10 Batch 1:  Loss:     0.4157. Validation Accuracy: 0.492188\n",
      "Epoch 29, CIFAR-10 Batch 1:  Loss:     0.4436. Validation Accuracy: 0.494141\n",
      "Epoch 30, CIFAR-10 Batch 1:  Loss:     0.3950. Validation Accuracy: 0.519531\n",
      "Epoch 31, CIFAR-10 Batch 1:  Loss:     0.3067. Validation Accuracy: 0.507812\n",
      "Epoch 32, CIFAR-10 Batch 1:  Loss:     0.2436. Validation Accuracy: 0.503906\n",
      "Epoch 33, CIFAR-10 Batch 1:  Loss:     0.2062. Validation Accuracy: 0.503906\n",
      "Epoch 34, CIFAR-10 Batch 1:  Loss:     0.2779. Validation Accuracy: 0.523438\n",
      "Epoch 35, CIFAR-10 Batch 1:  Loss:     0.2860. Validation Accuracy: 0.505859\n",
      "Epoch 36, CIFAR-10 Batch 1:  Loss:     0.2677. Validation Accuracy: 0.515625\n"
     ]
    }
   ],
   "source": [
    "\"\"\"\n",
    "DON'T MODIFY ANYTHING IN THIS CELL\n",
    "\"\"\"\n",
    "print('Checking the Training on a Single Batch...')\n",
    "with tf.Session() as sess:\n",
    "    sess.run(tf.global_variables_initializer())\n",
    "    # Training cycle\n",
    "    for epoch in range(epochs):\n",
    "        batch_i = 1\n",
    "        for batch_features, batch_labels in helper.load_preprocess_training_batch(batch_i, batch_size):\n",
    "            train_neural_network(sess, optimizer, keep_probability, batch_features, batch_labels)\n",
    "        print('Epoch {:>2}, CIFAR-10 Batch {}:  '.format(epoch + 1, batch_i), end='')\n",
    "        print_stats(sess, batch_features, batch_labels, cost, accuracy)"
   ]
  },
  {
   "cell_type": "markdown",
   "metadata": {},
   "source": [
    "### Fully Train the Model\n",
    "Now that you got a good accuracy with a single CIFAR-10 batch, try it with all five batches."
   ]
  },
  {
   "cell_type": "code",
   "execution_count": 52,
   "metadata": {
    "collapsed": false
   },
   "outputs": [
    {
     "name": "stdout",
     "output_type": "stream",
     "text": [
      "Training...\n",
      "Epoch  1, CIFAR-10 Batch 1:  Loss:     2.0674. Validation Accuracy: 0.175781\n",
      "Epoch  1, CIFAR-10 Batch 2:  Loss:     1.8722. Validation Accuracy: 0.160156\n",
      "Epoch  1, CIFAR-10 Batch 3:  Loss:     1.6342. Validation Accuracy: 0.292969\n",
      "Epoch  1, CIFAR-10 Batch 4:  Loss:     1.7211. Validation Accuracy: 0.359375\n",
      "Epoch  1, CIFAR-10 Batch 5:  Loss:     1.5377. Validation Accuracy: 0.347656\n",
      "Epoch  2, CIFAR-10 Batch 1:  Loss:     1.5932. Validation Accuracy: 0.417969\n",
      "Epoch  2, CIFAR-10 Batch 2:  Loss:     1.2315. Validation Accuracy: 0.437500\n",
      "Epoch  2, CIFAR-10 Batch 3:  Loss:     1.1462. Validation Accuracy: 0.531250\n",
      "Epoch  2, CIFAR-10 Batch 4:  Loss:     1.4043. Validation Accuracy: 0.492188\n",
      "Epoch  2, CIFAR-10 Batch 5:  Loss:     1.1634. Validation Accuracy: 0.513672\n",
      "Epoch  3, CIFAR-10 Batch 1:  Loss:     1.3348. Validation Accuracy: 0.498047\n",
      "Epoch  3, CIFAR-10 Batch 2:  Loss:     1.0719. Validation Accuracy: 0.505859\n",
      "Epoch  3, CIFAR-10 Batch 3:  Loss:     0.9902. Validation Accuracy: 0.519531\n",
      "Epoch  3, CIFAR-10 Batch 4:  Loss:     1.1984. Validation Accuracy: 0.548828\n",
      "Epoch  3, CIFAR-10 Batch 5:  Loss:     1.1134. Validation Accuracy: 0.554688\n",
      "Epoch  4, CIFAR-10 Batch 1:  Loss:     1.1018. Validation Accuracy: 0.552734\n",
      "Epoch  4, CIFAR-10 Batch 2:  Loss:     0.9099. Validation Accuracy: 0.548828\n",
      "Epoch  4, CIFAR-10 Batch 3:  Loss:     0.9526. Validation Accuracy: 0.585938\n",
      "Epoch  4, CIFAR-10 Batch 4:  Loss:     0.9893. Validation Accuracy: 0.554688\n",
      "Epoch  4, CIFAR-10 Batch 5:  Loss:     0.9602. Validation Accuracy: 0.582031\n",
      "Epoch  5, CIFAR-10 Batch 1:  Loss:     0.9207. Validation Accuracy: 0.597656\n",
      "Epoch  5, CIFAR-10 Batch 2:  Loss:     0.8173. Validation Accuracy: 0.587891\n",
      "Epoch  5, CIFAR-10 Batch 3:  Loss:     0.7747. Validation Accuracy: 0.609375\n",
      "Epoch  5, CIFAR-10 Batch 4:  Loss:     1.0042. Validation Accuracy: 0.566406\n",
      "Epoch  5, CIFAR-10 Batch 5:  Loss:     0.8305. Validation Accuracy: 0.585938\n",
      "Epoch  6, CIFAR-10 Batch 1:  Loss:     0.8443. Validation Accuracy: 0.603516\n",
      "Epoch  6, CIFAR-10 Batch 2:  Loss:     0.8164. Validation Accuracy: 0.583984\n",
      "Epoch  6, CIFAR-10 Batch 3:  Loss:     0.6834. Validation Accuracy: 0.628906\n",
      "Epoch  6, CIFAR-10 Batch 4:  Loss:     0.9068. Validation Accuracy: 0.613281\n",
      "Epoch  6, CIFAR-10 Batch 5:  Loss:     0.7734. Validation Accuracy: 0.574219\n",
      "Epoch  7, CIFAR-10 Batch 1:  Loss:     0.7050. Validation Accuracy: 0.607422\n",
      "Epoch  7, CIFAR-10 Batch 2:  Loss:     0.6790. Validation Accuracy: 0.613281\n",
      "Epoch  7, CIFAR-10 Batch 3:  Loss:     0.5889. Validation Accuracy: 0.628906\n",
      "Epoch  7, CIFAR-10 Batch 4:  Loss:     0.8571. Validation Accuracy: 0.644531\n",
      "Epoch  7, CIFAR-10 Batch 5:  Loss:     0.7627. Validation Accuracy: 0.597656\n",
      "Epoch  8, CIFAR-10 Batch 1:  Loss:     0.6916. Validation Accuracy: 0.599609\n",
      "Epoch  8, CIFAR-10 Batch 2:  Loss:     0.7425. Validation Accuracy: 0.621094\n",
      "Epoch  8, CIFAR-10 Batch 3:  Loss:     0.4924. Validation Accuracy: 0.662109\n",
      "Epoch  8, CIFAR-10 Batch 4:  Loss:     0.7831. Validation Accuracy: 0.660156\n",
      "Epoch  8, CIFAR-10 Batch 5:  Loss:     0.6483. Validation Accuracy: 0.636719\n",
      "Epoch  9, CIFAR-10 Batch 1:  Loss:     0.7226. Validation Accuracy: 0.628906\n",
      "Epoch  9, CIFAR-10 Batch 2:  Loss:     0.5911. Validation Accuracy: 0.628906\n",
      "Epoch  9, CIFAR-10 Batch 3:  Loss:     0.4450. Validation Accuracy: 0.652344\n",
      "Epoch  9, CIFAR-10 Batch 4:  Loss:     0.7251. Validation Accuracy: 0.654297\n",
      "Epoch  9, CIFAR-10 Batch 5:  Loss:     0.5882. Validation Accuracy: 0.625000\n",
      "Epoch 10, CIFAR-10 Batch 1:  Loss:     0.6730. Validation Accuracy: 0.632812\n",
      "Epoch 10, CIFAR-10 Batch 2:  Loss:     0.5859. Validation Accuracy: 0.638672\n",
      "Epoch 10, CIFAR-10 Batch 3:  Loss:     0.3479. Validation Accuracy: 0.638672\n",
      "Epoch 10, CIFAR-10 Batch 4:  Loss:     0.6453. Validation Accuracy: 0.679688\n",
      "Epoch 10, CIFAR-10 Batch 5:  Loss:     0.6167. Validation Accuracy: 0.638672\n",
      "Epoch 11, CIFAR-10 Batch 1:  Loss:     0.6172. Validation Accuracy: 0.638672\n",
      "Epoch 11, CIFAR-10 Batch 2:  Loss:     0.5344. Validation Accuracy: 0.638672\n",
      "Epoch 11, CIFAR-10 Batch 3:  Loss:     0.3767. Validation Accuracy: 0.658203\n",
      "Epoch 11, CIFAR-10 Batch 4:  Loss:     0.6282. Validation Accuracy: 0.671875\n",
      "Epoch 11, CIFAR-10 Batch 5:  Loss:     0.6332. Validation Accuracy: 0.638672\n",
      "Epoch 12, CIFAR-10 Batch 1:  Loss:     0.5730. Validation Accuracy: 0.656250\n",
      "Epoch 12, CIFAR-10 Batch 2:  Loss:     0.5341. Validation Accuracy: 0.640625\n",
      "Epoch 12, CIFAR-10 Batch 3:  Loss:     0.3823. Validation Accuracy: 0.658203\n",
      "Epoch 12, CIFAR-10 Batch 4:  Loss:     0.5628. Validation Accuracy: 0.660156\n",
      "Epoch 12, CIFAR-10 Batch 5:  Loss:     0.5640. Validation Accuracy: 0.642578\n",
      "Epoch 13, CIFAR-10 Batch 1:  Loss:     0.4984. Validation Accuracy: 0.646484\n",
      "Epoch 13, CIFAR-10 Batch 2:  Loss:     0.4865. Validation Accuracy: 0.623047\n",
      "Epoch 13, CIFAR-10 Batch 3:  Loss:     0.3571. Validation Accuracy: 0.654297\n",
      "Epoch 13, CIFAR-10 Batch 4:  Loss:     0.5046. Validation Accuracy: 0.664062\n",
      "Epoch 13, CIFAR-10 Batch 5:  Loss:     0.4857. Validation Accuracy: 0.646484\n",
      "Epoch 14, CIFAR-10 Batch 1:  Loss:     0.5851. Validation Accuracy: 0.630859\n",
      "Epoch 14, CIFAR-10 Batch 2:  Loss:     0.5138. Validation Accuracy: 0.583984\n",
      "Epoch 14, CIFAR-10 Batch 3:  Loss:     0.3216. Validation Accuracy: 0.650391\n",
      "Epoch 14, CIFAR-10 Batch 4:  Loss:     0.4230. Validation Accuracy: 0.654297\n",
      "Epoch 14, CIFAR-10 Batch 5:  Loss:     0.4315. Validation Accuracy: 0.619141\n",
      "Epoch 15, CIFAR-10 Batch 1:  Loss:     0.5261. Validation Accuracy: 0.636719\n",
      "Epoch 15, CIFAR-10 Batch 2:  Loss:     0.4669. Validation Accuracy: 0.623047\n",
      "Epoch 15, CIFAR-10 Batch 3:  Loss:     0.3492. Validation Accuracy: 0.652344\n",
      "Epoch 15, CIFAR-10 Batch 4:  Loss:     0.4369. Validation Accuracy: 0.671875\n",
      "Epoch 15, CIFAR-10 Batch 5:  Loss:     0.3696. Validation Accuracy: 0.630859\n",
      "Epoch 16, CIFAR-10 Batch 1:  Loss:     0.4968. Validation Accuracy: 0.617188\n",
      "Epoch 16, CIFAR-10 Batch 2:  Loss:     0.3982. Validation Accuracy: 0.625000\n",
      "Epoch 16, CIFAR-10 Batch 3:  Loss:     0.3427. Validation Accuracy: 0.630859\n",
      "Epoch 16, CIFAR-10 Batch 4:  Loss:     0.4328. Validation Accuracy: 0.656250\n",
      "Epoch 16, CIFAR-10 Batch 5:  Loss:     0.4152. Validation Accuracy: 0.642578\n",
      "Epoch 17, CIFAR-10 Batch 1:  Loss:     0.4630. Validation Accuracy: 0.644531\n",
      "Epoch 17, CIFAR-10 Batch 2:  Loss:     0.3900. Validation Accuracy: 0.636719\n",
      "Epoch 17, CIFAR-10 Batch 3:  Loss:     0.3396. Validation Accuracy: 0.644531\n",
      "Epoch 17, CIFAR-10 Batch 4:  Loss:     0.4124. Validation Accuracy: 0.632812\n",
      "Epoch 17, CIFAR-10 Batch 5:  Loss:     0.3372. Validation Accuracy: 0.664062\n",
      "Epoch 18, CIFAR-10 Batch 1:  Loss:     0.4757. Validation Accuracy: 0.642578\n",
      "Epoch 18, CIFAR-10 Batch 2:  Loss:     0.3792. Validation Accuracy: 0.646484\n",
      "Epoch 18, CIFAR-10 Batch 3:  Loss:     0.3028. Validation Accuracy: 0.642578\n",
      "Epoch 18, CIFAR-10 Batch 4:  Loss:     0.4456. Validation Accuracy: 0.613281\n",
      "Epoch 18, CIFAR-10 Batch 5:  Loss:     0.3574. Validation Accuracy: 0.646484\n",
      "Epoch 19, CIFAR-10 Batch 1:  Loss:     0.4261. Validation Accuracy: 0.648438\n",
      "Epoch 19, CIFAR-10 Batch 2:  Loss:     0.4626. Validation Accuracy: 0.636719\n",
      "Epoch 19, CIFAR-10 Batch 3:  Loss:     0.2977. Validation Accuracy: 0.666016\n",
      "Epoch 19, CIFAR-10 Batch 4:  Loss:     0.3824. Validation Accuracy: 0.666016\n",
      "Epoch 19, CIFAR-10 Batch 5:  Loss:     0.3967. Validation Accuracy: 0.623047\n",
      "Epoch 20, CIFAR-10 Batch 1:  Loss:     0.3811. Validation Accuracy: 0.654297\n",
      "Epoch 20, CIFAR-10 Batch 2:  Loss:     0.4233. Validation Accuracy: 0.621094\n",
      "Epoch 20, CIFAR-10 Batch 3:  Loss:     0.2653. Validation Accuracy: 0.658203\n",
      "Epoch 20, CIFAR-10 Batch 4:  Loss:     0.3383. Validation Accuracy: 0.654297\n",
      "Epoch 20, CIFAR-10 Batch 5:  Loss:     0.4158. Validation Accuracy: 0.619141\n",
      "Epoch 21, CIFAR-10 Batch 1:  Loss:     0.4512. Validation Accuracy: 0.644531\n",
      "Epoch 21, CIFAR-10 Batch 2:  Loss:     0.3529. Validation Accuracy: 0.628906\n",
      "Epoch 21, CIFAR-10 Batch 3:  Loss:     0.2352. Validation Accuracy: 0.654297\n",
      "Epoch 21, CIFAR-10 Batch 4:  Loss:     0.3466. Validation Accuracy: 0.644531\n",
      "Epoch 21, CIFAR-10 Batch 5:  Loss:     0.3075. Validation Accuracy: 0.626953\n",
      "Epoch 22, CIFAR-10 Batch 1:  Loss:     0.4190. Validation Accuracy: 0.666016\n",
      "Epoch 22, CIFAR-10 Batch 2:  Loss:     0.3384. Validation Accuracy: 0.617188\n",
      "Epoch 22, CIFAR-10 Batch 3:  Loss:     0.2984. Validation Accuracy: 0.673828\n",
      "Epoch 22, CIFAR-10 Batch 4:  Loss:     0.2667. Validation Accuracy: 0.666016\n",
      "Epoch 22, CIFAR-10 Batch 5:  Loss:     0.2817. Validation Accuracy: 0.625000\n",
      "Epoch 23, CIFAR-10 Batch 1:  Loss:     0.5112. Validation Accuracy: 0.666016\n",
      "Epoch 23, CIFAR-10 Batch 2:  Loss:     0.3909. Validation Accuracy: 0.636719\n",
      "Epoch 23, CIFAR-10 Batch 3:  Loss:     0.2834. Validation Accuracy: 0.644531\n",
      "Epoch 23, CIFAR-10 Batch 4:  Loss:     0.3404. Validation Accuracy: 0.646484\n",
      "Epoch 23, CIFAR-10 Batch 5:  Loss:     0.3088. Validation Accuracy: 0.628906\n",
      "Epoch 24, CIFAR-10 Batch 1:  Loss:     0.4017. Validation Accuracy: 0.646484\n",
      "Epoch 24, CIFAR-10 Batch 2:  Loss:     0.3543. Validation Accuracy: 0.638672\n",
      "Epoch 24, CIFAR-10 Batch 3:  Loss:     0.2266. Validation Accuracy: 0.646484\n",
      "Epoch 24, CIFAR-10 Batch 4:  Loss:     0.3053. Validation Accuracy: 0.654297\n",
      "Epoch 24, CIFAR-10 Batch 5:  Loss:     0.2321. Validation Accuracy: 0.662109\n",
      "Epoch 25, CIFAR-10 Batch 1:  Loss:     0.3845. Validation Accuracy: 0.671875\n",
      "Epoch 25, CIFAR-10 Batch 2:  Loss:     0.3053. Validation Accuracy: 0.623047\n",
      "Epoch 25, CIFAR-10 Batch 3:  Loss:     0.2102. Validation Accuracy: 0.644531\n",
      "Epoch 25, CIFAR-10 Batch 4:  Loss:     0.4119. Validation Accuracy: 0.630859\n",
      "Epoch 25, CIFAR-10 Batch 5:  Loss:     0.2134. Validation Accuracy: 0.648438\n",
      "Epoch 26, CIFAR-10 Batch 1:  Loss:     0.3590. Validation Accuracy: 0.671875\n",
      "Epoch 26, CIFAR-10 Batch 2:  Loss:     0.3306. Validation Accuracy: 0.644531\n",
      "Epoch 26, CIFAR-10 Batch 3:  Loss:     0.2025. Validation Accuracy: 0.654297\n",
      "Epoch 26, CIFAR-10 Batch 4:  Loss:     0.2680. Validation Accuracy: 0.652344\n",
      "Epoch 26, CIFAR-10 Batch 5:  Loss:     0.1917. Validation Accuracy: 0.654297\n",
      "Epoch 27, CIFAR-10 Batch 1:  Loss:     0.4361. Validation Accuracy: 0.654297\n",
      "Epoch 27, CIFAR-10 Batch 2:  Loss:     0.2942. Validation Accuracy: 0.630859\n",
      "Epoch 27, CIFAR-10 Batch 3:  Loss:     0.2526. Validation Accuracy: 0.658203\n",
      "Epoch 27, CIFAR-10 Batch 4:  Loss:     0.2745. Validation Accuracy: 0.664062\n",
      "Epoch 27, CIFAR-10 Batch 5:  Loss:     0.2071. Validation Accuracy: 0.640625\n",
      "Epoch 28, CIFAR-10 Batch 1:  Loss:     0.3559. Validation Accuracy: 0.642578\n",
      "Epoch 28, CIFAR-10 Batch 2:  Loss:     0.2020. Validation Accuracy: 0.636719\n",
      "Epoch 28, CIFAR-10 Batch 3:  Loss:     0.2470. Validation Accuracy: 0.644531\n",
      "Epoch 28, CIFAR-10 Batch 4:  Loss:     0.2774. Validation Accuracy: 0.648438\n",
      "Epoch 28, CIFAR-10 Batch 5:  Loss:     0.1775. Validation Accuracy: 0.648438\n",
      "Epoch 29, CIFAR-10 Batch 1:  Loss:     0.5852. Validation Accuracy: 0.615234\n",
      "Epoch 29, CIFAR-10 Batch 2:  Loss:     0.3252. Validation Accuracy: 0.638672\n",
      "Epoch 29, CIFAR-10 Batch 3:  Loss:     0.2137. Validation Accuracy: 0.638672\n",
      "Epoch 29, CIFAR-10 Batch 4:  Loss:     0.2189. Validation Accuracy: 0.646484\n",
      "Epoch 29, CIFAR-10 Batch 5:  Loss:     0.2133. Validation Accuracy: 0.648438\n",
      "Epoch 30, CIFAR-10 Batch 1:  Loss:     0.4005. Validation Accuracy: 0.642578\n",
      "Epoch 30, CIFAR-10 Batch 2:  Loss:     0.3176. Validation Accuracy: 0.628906\n",
      "Epoch 30, CIFAR-10 Batch 3:  Loss:     0.1940. Validation Accuracy: 0.662109\n",
      "Epoch 30, CIFAR-10 Batch 4:  Loss:     0.1999. Validation Accuracy: 0.644531\n",
      "Epoch 30, CIFAR-10 Batch 5:  Loss:     0.2736. Validation Accuracy: 0.630859\n",
      "Epoch 31, CIFAR-10 Batch 1:  Loss:     0.4311. Validation Accuracy: 0.642578\n",
      "Epoch 31, CIFAR-10 Batch 2:  Loss:     0.2893. Validation Accuracy: 0.638672\n",
      "Epoch 31, CIFAR-10 Batch 3:  Loss:     0.2078. Validation Accuracy: 0.642578\n",
      "Epoch 31, CIFAR-10 Batch 4:  Loss:     0.1488. Validation Accuracy: 0.636719\n",
      "Epoch 31, CIFAR-10 Batch 5:  Loss:     0.1829. Validation Accuracy: 0.642578\n",
      "Epoch 32, CIFAR-10 Batch 1:  Loss:     0.4058. Validation Accuracy: 0.642578\n",
      "Epoch 32, CIFAR-10 Batch 2:  Loss:     0.2900. Validation Accuracy: 0.630859\n",
      "Epoch 32, CIFAR-10 Batch 3:  Loss:     0.1409. Validation Accuracy: 0.671875\n",
      "Epoch 32, CIFAR-10 Batch 4:  Loss:     0.1231. Validation Accuracy: 0.656250\n",
      "Epoch 32, CIFAR-10 Batch 5:  Loss:     0.1644. Validation Accuracy: 0.625000\n",
      "Epoch 33, CIFAR-10 Batch 1:  Loss:     0.4196. Validation Accuracy: 0.638672\n",
      "Epoch 33, CIFAR-10 Batch 2:  Loss:     0.2936. Validation Accuracy: 0.636719\n",
      "Epoch 33, CIFAR-10 Batch 3:  Loss:     0.1849. Validation Accuracy: 0.640625\n",
      "Epoch 33, CIFAR-10 Batch 4:  Loss:     0.2101. Validation Accuracy: 0.646484\n",
      "Epoch 33, CIFAR-10 Batch 5:  Loss:     0.1507. Validation Accuracy: 0.634766\n",
      "Epoch 34, CIFAR-10 Batch 1:  Loss:     0.3200. Validation Accuracy: 0.675781\n",
      "Epoch 34, CIFAR-10 Batch 2:  Loss:     0.2351. Validation Accuracy: 0.628906\n",
      "Epoch 34, CIFAR-10 Batch 3:  Loss:     0.1649. Validation Accuracy: 0.634766\n",
      "Epoch 34, CIFAR-10 Batch 4:  Loss:     0.1650. Validation Accuracy: 0.644531\n",
      "Epoch 34, CIFAR-10 Batch 5:  Loss:     0.1765. Validation Accuracy: 0.656250\n",
      "Epoch 35, CIFAR-10 Batch 1:  Loss:     0.3603. Validation Accuracy: 0.656250\n",
      "Epoch 35, CIFAR-10 Batch 2:  Loss:     0.2261. Validation Accuracy: 0.621094\n",
      "Epoch 35, CIFAR-10 Batch 3:  Loss:     0.1752. Validation Accuracy: 0.664062\n",
      "Epoch 35, CIFAR-10 Batch 4:  Loss:     0.1397. Validation Accuracy: 0.650391\n",
      "Epoch 35, CIFAR-10 Batch 5:  Loss:     0.1443. Validation Accuracy: 0.658203\n",
      "Epoch 36, CIFAR-10 Batch 1:  Loss:     0.2376. Validation Accuracy: 0.656250\n",
      "Epoch 36, CIFAR-10 Batch 2:  Loss:     0.2572. Validation Accuracy: 0.621094\n",
      "Epoch 36, CIFAR-10 Batch 3:  Loss:     0.1560. Validation Accuracy: 0.646484\n",
      "Epoch 36, CIFAR-10 Batch 4:  Loss:     0.1929. Validation Accuracy: 0.650391\n",
      "Epoch 36, CIFAR-10 Batch 5:  Loss:     0.1654. Validation Accuracy: 0.658203\n"
     ]
    }
   ],
   "source": [
    "\"\"\"\n",
    "DON'T MODIFY ANYTHING IN THIS CELL\n",
    "\"\"\"\n",
    "save_model_path = './image_classification'\n",
    "\n",
    "print('Training...')\n",
    "with tf.Session() as sess:\n",
    "    # Initializing the variables\n",
    "    sess.run(tf.global_variables_initializer())\n",
    "    \n",
    "    # Training cycle\n",
    "    for epoch in range(epochs):\n",
    "        # Loop over all batches\n",
    "        n_batches = 5\n",
    "        for batch_i in range(1, n_batches + 1):\n",
    "            for batch_features, batch_labels in helper.load_preprocess_training_batch(batch_i, batch_size):\n",
    "                train_neural_network(sess, optimizer, keep_probability, batch_features, batch_labels)\n",
    "            print('Epoch {:>2}, CIFAR-10 Batch {}:  '.format(epoch + 1, batch_i), end='')\n",
    "            print_stats(sess, batch_features, batch_labels, cost, accuracy)\n",
    "            \n",
    "    # Save Model\n",
    "    saver = tf.train.Saver()\n",
    "    save_path = saver.save(sess, save_model_path)"
   ]
  },
  {
   "cell_type": "markdown",
   "metadata": {},
   "source": [
    "# Checkpoint\n",
    "The model has been saved to disk.\n",
    "## Test Model\n",
    "Test your model against the test dataset.  This will be your final accuracy. You should have an accuracy greater than 50%. If you don't, keep tweaking the model architecture and parameters."
   ]
  },
  {
   "cell_type": "code",
   "execution_count": 53,
   "metadata": {
    "collapsed": false
   },
   "outputs": [
    {
     "name": "stdout",
     "output_type": "stream",
     "text": [
      "Testing Accuracy: 0.6309713375796179\n",
      "\n"
     ]
    },
    {
     "data": {
      "image/png": "[encoded data removed]",
      "text/plain": [
       "<matplotlib.figure.Figure at 0x7f24306fa780>"
      ]
     },
     "metadata": {
      "image/png": {
       "height": 319,
       "width": 355
      }
     },
     "output_type": "display_data"
    }
   ],
   "source": [
    "\"\"\"\n",
    "DON'T MODIFY ANYTHING IN THIS CELL\n",
    "\"\"\"\n",
    "%matplotlib inline\n",
    "%config InlineBackend.figure_format = 'retina'\n",
    "\n",
    "import tensorflow as tf\n",
    "import pickle\n",
    "import helper\n",
    "import random\n",
    "\n",
    "# Set batch size if not already set\n",
    "try:\n",
    "    if batch_size:\n",
    "        pass\n",
    "except NameError:\n",
    "    batch_size = 64\n",
    "\n",
    "save_model_path = './image_classification'\n",
    "n_samples = 4\n",
    "top_n_predictions = 3\n",
    "\n",
    "def test_model():\n",
    "    \"\"\"\n",
    "    Test the saved model against the test dataset\n",
    "    \"\"\"\n",
    "\n",
    "    test_features, test_labels = pickle.load(open('preprocess_training.p', mode='rb'))\n",
    "    loaded_graph = tf.Graph()\n",
    "\n",
    "    with tf.Session(graph=loaded_graph) as sess:\n",
    "        # Load model\n",
    "        loader = tf.train.import_meta_graph(save_model_path + '.meta')\n",
    "        loader.restore(sess, save_model_path)\n",
    "\n",
    "        # Get Tensors from loaded model\n",
    "        loaded_x = loaded_graph.get_tensor_by_name('x:0')\n",
    "        loaded_y = loaded_graph.get_tensor_by_name('y:0')\n",
    "        loaded_keep_prob = loaded_graph.get_tensor_by_name('keep_prob:0')\n",
    "        loaded_logits = loaded_graph.get_tensor_by_name('logits:0')\n",
    "        loaded_acc = loaded_graph.get_tensor_by_name('accuracy:0')\n",
    "        \n",
    "        # Get accuracy in batches for memory limitations\n",
    "        test_batch_acc_total = 0\n",
    "        test_batch_count = 0\n",
    "        \n",
    "        for train_feature_batch, train_label_batch in helper.batch_features_labels(test_features, test_labels, batch_size):\n",
    "            test_batch_acc_total += sess.run(\n",
    "                loaded_acc,\n",
    "                feed_dict={loaded_x: train_feature_batch, loaded_y: train_label_batch, loaded_keep_prob: 1.0})\n",
    "            test_batch_count += 1\n",
    "\n",
    "        print('Testing Accuracy: {}\\n'.format(test_batch_acc_total/test_batch_count))\n",
    "\n",
    "        # Print Random Samples\n",
    "        random_test_features, random_test_labels = tuple(zip(*random.sample(list(zip(test_features, test_labels)), n_samples)))\n",
    "        random_test_predictions = sess.run(\n",
    "            tf.nn.top_k(tf.nn.softmax(loaded_logits), top_n_predictions),\n",
    "            feed_dict={loaded_x: random_test_features, loaded_y: random_test_labels, loaded_keep_prob: 1.0})\n",
    "        helper.display_image_predictions(random_test_features, random_test_labels, random_test_predictions)\n",
    "\n",
    "\n",
    "test_model()"
   ]
  },
  {
   "cell_type": "markdown",
   "metadata": {},
   "source": [
    "## Why 50-70% Accuracy?\n",
    "You might be wondering why you can't get an accuracy any higher. First things first, 50% isn't bad for a simple CNN.  Pure guessing would get you 10% accuracy. However, you might notice people are getting scores [well above 70%](http://rodrigob.github.io/are_we_there_yet/build/classification_datasets_results.html#43494641522d3130).  That's because we haven't taught you all there is to know about neural networks. We still need to cover a few more techniques.\n",
    "## Submitting This Project\n",
    "When submitting this project, make sure to run all the cells before saving the notebook.  Save the notebook file as \"dlnd_image_classification.ipynb\" and save it as a HTML file under \"File\" -> \"Download as\".  Include the \"helper.py\" and \"problem_unittests.py\" files in your submission."
   ]
  }
 ],
 "metadata": {
  "kernelspec": {
   "display_name": "Python 3",
   "language": "python",
   "name": "python3"
  },
  "language_info": {
   "codemirror_mode": {
    "name": "ipython",
    "version": 3
   },
   "file_extension": ".py",
   "mimetype": "text/x-python",
   "name": "python",
   "nbconvert_exporter": "python",
   "pygments_lexer": "ipython3",
   "version": "3.5.3"
  }
 },
 "nbformat": 4,
 "nbformat_minor": 0
}
